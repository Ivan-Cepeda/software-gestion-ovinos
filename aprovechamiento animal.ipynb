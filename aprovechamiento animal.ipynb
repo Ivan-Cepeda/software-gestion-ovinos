{
 "cells": [
  {
   "cell_type": "code",
   "execution_count": 3,
   "metadata": {},
   "outputs": [],
   "source": [
    "\n",
    "import pandas as pd\n",
    "import numpy as np"
   ]
  },
  {
   "cell_type": "code",
   "execution_count": 5,
   "metadata": {},
   "outputs": [],
   "source": [
    "#Crearemos las listas con los nombres de los archivos que contienen.\n",
    "#Tabla Alimentación\n",
    "tipo = []\n",
    "suplemento = []\n",
    "#Tabla Tratamiento\n",
    "medico= []\n",
    "famacha = []\n",
    "condicion_corporal = []\n",
    "aborto = []\n",
    "#Tabla Enfermedad\n",
    "enfermedad = [] \n",
    "#Tabla Explotación\n",
    "tipo_explotacion = []\n",
    "#Tabla Control de peso\n",
    "peso = []\n",
    "#Tabla Periodo\n",
    "periodo = []\n",
    "fecha_inicio = []\n",
    "fecha_fin = []\n",
    "#Tabla Plan Sanitario\n",
    "desparacitacion = []\n",
    "vacunacion = []\n",
    "#Tabla Animal\n",
    "id_animal = []\n",
    "raza = []\n",
    "sexo = []\n",
    "peso_nacimiento = []\n",
    "vivo = []\n",
    "#Tabla Imagen\n",
    "url = []\n",
    "#Tabla rebaño\n",
    "rebanio = []\n",
    "#Tabla usuario\n",
    "nombre=[]\n",
    "apellido=[]\n",
    "email=[]\n",
    "password=[]\n"
   ]
  },
  {
   "cell_type": "code",
   "execution_count": null,
   "metadata": {},
   "outputs": [],
   "source": []
  },
  {
   "cell_type": "code",
   "execution_count": null,
   "metadata": {},
   "outputs": [],
   "source": [
    "# Función para crear id_autoincremental\n",
    "def crear_codigo(numero, dataframe, nombre_id):\n",
    "    dataframe.insert(0, nombre_id, range(numero, numero + len(dataframe)))\n"
   ]
  },
  {
   "cell_type": "code",
   "execution_count": null,
   "metadata": {},
   "outputs": [],
   "source": [
    "#creamos dataframe para alimentacion\n",
    "alimentacion = pd.DataFrame({'tipo':tipo, 'suplemento':suplemento})\n",
    "#creamos dataframe para tratamiento\n",
    "tratamiento = pd.DataFrame({'medico':medico, 'famacha':famacha, 'condicion_corporal':condicion_corporal, 'condicion_corporal':condicion_corporal, 'aborto':aborto})\n",
    "#creamos dataframe para enfermedad\n",
    "enfermedad = pd.DataFrame({'enfermedad':enfermedad})\n",
    "#creamos dataframe para explotacion\n",
    "tipo_explotacion = pd.DataFrame({'tipo_explotacion':tipo_explotacion})\n",
    "#dataframe para Control de Peso\n",
    "control_peso = pd.DataFrame({'peso':peso})\n",
    "#data frame para Plan Sanitario\n",
    "plan_sanitario = pd.DataFrame({'desparacitacion':desparacitacion, 'vacunacion':vacunacion})\n",
    "#data frame para animal\n",
    "animal = pd.DataFrame({'id_animal':id_animal, 'raza':raza, 'sexo':sexo, 'peso_nacimiento':peso_nacimiento, 'vivo':vivo})\n",
    "#dataframe para imagen\n",
    "imagen = pd.DataFrame({'url':url})\n",
    "#dataframe para rebaño\n",
    "rebanio = pd.DataFrame({'rebanio':rebanio})\n",
    "#dataframe para ususario\n",
    "usuario = pd.DataFrame({'nombre':nombre, 'apellido':apellido, 'email':email, 'password':password})"
   ]
  },
  {
   "cell_type": "code",
   "execution_count": null,
   "metadata": {},
   "outputs": [],
   "source": []
  }
 ],
 "metadata": {
  "kernelspec": {
   "display_name": "Python 3",
   "language": "python",
   "name": "python3"
  },
  "language_info": {
   "codemirror_mode": {
    "name": "ipython",
    "version": 3
   },
   "file_extension": ".py",
   "mimetype": "text/x-python",
   "name": "python",
   "nbconvert_exporter": "python",
   "pygments_lexer": "ipython3",
   "version": "3.11.5"
  },
  "orig_nbformat": 4
 },
 "nbformat": 4,
 "nbformat_minor": 2
}
